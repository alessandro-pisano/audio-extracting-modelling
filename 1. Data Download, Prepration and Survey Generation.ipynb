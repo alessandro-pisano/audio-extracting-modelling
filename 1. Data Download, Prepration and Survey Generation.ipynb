{
 "cells": [
  {
   "cell_type": "markdown",
   "id": "3bb01f00",
   "metadata": {},
   "source": [
    "# Downloading data\n",
    "This section include the code to get the data from the TalkBank database."
   ]
  },
  {
   "cell_type": "code",
   "execution_count": 3,
   "id": "0f19e459",
   "metadata": {},
   "outputs": [],
   "source": [
    "import http.client\n",
    "import json\n",
    "import requests\n",
    "import time\n",
    "\n",
    "import pandas as pd\n",
    "import numpy as np\n",
    "\n",
    "from utils import download_audio"
   ]
  },
  {
   "cell_type": "code",
   "execution_count": null,
   "id": "9a4dae5c",
   "metadata": {},
   "outputs": [],
   "source": [
    "data = {\"CallHome Data\":\"https://media.talkbank.org/ca/CallHome/eng/\",\n",
    "        \"CallFriend NE Data\":\"https://media.talkbank.org/ca/CallFriend/eng-n/\",\n",
    "        \"CallFriend SE Data\":\"https://media.talkbank.org/ca/CallFriend/eng-s/\"}"
   ]
  },
  {
   "cell_type": "code",
   "execution_count": null,
   "id": "70e33b97",
   "metadata": {},
   "outputs": [],
   "source": [
    "for folder, url in data.items():\n",
    "    files = get_html(url)\n",
    "    download_audio(url, files, folder)"
   ]
  },
  {
   "cell_type": "markdown",
   "id": "0ba08407",
   "metadata": {},
   "source": [
    "---\n",
    "# Audio segmentation\n",
    "This sections includes the step necessary to transform the whole conversations files in shorter sentences of length between 2 and 12 seconds."
   ]
  },
  {
   "cell_type": "code",
   "execution_count": null,
   "id": "e78cb940",
   "metadata": {},
   "outputs": [],
   "source": [
    "from short_sentences import AudioSentence\n",
    "\n",
    "def sentences_sh(file):\n",
    "    spec = AudioSentence(file)\n",
    "    spec.run()\n",
    "    \n",
    "folders = [\"CallHome Data\",\n",
    "        \"CallFriend NE Data\",\n",
    "        \"CallFriend SE Data\"]\n",
    "\n",
    "for fold_file in folders:\n",
    "    list_files = os.listdir(fold_file)\n",
    "    print(f\"Found {len(list_files)} list_files in the folder. Starting extraction\")\n",
    "    for file in list_files:\n",
    "        path_dir = fold_file + \"/\" + file\n",
    "        sentences_sh(path_dir)"
   ]
  },
  {
   "cell_type": "markdown",
   "id": "bde70fa3",
   "metadata": {},
   "source": [
    "---\n",
    "# Generating Transcripts\n",
    "The transcripts will be generated with Google's Speech to text APIs"
   ]
  },
  {
   "cell_type": "code",
   "execution_count": null,
   "id": "6c359aad",
   "metadata": {},
   "outputs": [],
   "source": [
    "from utils import creating_transcripts\n",
    "\n",
    "folders = [\"CallHome Data\",\n",
    "        \"CallFriend NE Data\",\n",
    "        \"CallFriend SE Data\"]\n",
    "\n",
    "# Generating Transcripts and stored in txt Files\n",
    "for folder in folders:\n",
    "    creating_transcripts(folder)"
   ]
  },
  {
   "cell_type": "markdown",
   "id": "24b4ea34",
   "metadata": {},
   "source": [
    "---\n",
    "# Survey Generation\n",
    "To standardize the annotation process, Qualtrics has been used. It is a survey serivces with come with APIs, making the generation of the questions automatic."
   ]
  },
  {
   "cell_type": "code",
   "execution_count": null,
   "id": "fd58c833",
   "metadata": {},
   "outputs": [],
   "source": [
    "conn = http.client.HTTPSConnection(\"unibocconi.qualtrics.com\")\n",
    "\n",
    "# Insert API Token\n",
    "apiToken = \"ID TOKEN\"\n",
    "dataCenter = \"unibocconi.ca1\"\n",
    "\n",
    "# Headers - API\n",
    "headers = {\n",
    "    'Content-Type': \"application/json\",\n",
    "    'X-API-TOKEN': f\"{apiToken}\"\n",
    "    }"
   ]
  },
  {
   "cell_type": "code",
   "execution_count": null,
   "id": "d8ce4c93",
   "metadata": {},
   "outputs": [],
   "source": [
    "# Creating df to save sruveys IDs\n",
    "df_file = pd.read_csv(\"Audio_Files_Qual.csv\")\n",
    "df_file[\"folder\"] = df_file[\"folder\"].astype(str).str.zfill(4)\n",
    "folder_files = df_file[\"folder\"].unique().tolist()[0:1]\n",
    "df_file[\"survey_id\"] = \"\"\n",
    "df_file[\"survey_link\"] = \"\"\n",
    "saving_id = {}\n",
    "# Generating the surveys\n",
    "for fold in folder_files:\n",
    "    # Print Conversation Name (fold) and use it as survey name\n",
    "    print(fold)\n",
    "    payload = \"{\\n  \\\"SurveyName\\\": \\\"Audio Emotion %s\\\",\\n  \\\"Language\\\": \\\"EN\\\",\\n  \\\"ProjectCategory\\\": \\\"CORE\\\"\\n}\" % (fold)\n",
    "    conn.request(\"POST\", \"/API/v3/survey-definitions\", payload, headers)\n",
    "    res = conn.getresponse()\n",
    "    data = res.read()\n",
    "    survey_id = json.loads(data.decode(\"utf-8\"))[\"result\"][\"SurveyID\"]\n",
    "    # Saving Survey ID\n",
    "    saving_id[fold] = survey_id\n",
    "    df_file.loc[df_file[\"folder\"]==fold,\"survey_id\"] = survey_id\n",
    "    files_fold = df_file.loc[df_file[\"folder\"]==fold, \"file_qual\"].tolist()\n",
    "    for i in range(1,len(files_fold)+1):\n",
    "        conn = http.client.HTTPSConnection(\"unibocconi.qualtrics.com\")\n",
    "        name_file = files_fold[i-1]\n",
    "        tag = \"Q\"+str(i)\n",
    "        ids = \"QID\"+str(i)\n",
    "        data_pl = '''{\"QuestionText\": \"<div>Which emotion is it?<br /><a href=\\\\\"https://unibocconi.qualtrics.com/CP/File.php?F=%s\\\\\" target=\\\\\"_blank\\\\\"><audio class=\\\\\"qmedia\\\\\" controls=\\\\\"true\\\\\" height=\\\\\"40\\\\\" preload=\\\\\"auto\\\\\" width=\\\\\"320\\\\\"><source src=\\\\\"https://unibocconi.qualtrics.com/CP/File.php?F=%s\\\\\" type=\\\\\"audio/wav\\\\\" /><embed class=\\\\\"qmedia\\\\\" flashconsts=\\\\\"file=https://unibocconi.qualtrics.com/CP/File.php?F=%s&amp;width=320&amp;height=20&amp;type=wav&amp;autostart=false\\\\\" height=\\\\\"20\\\\\" pluginspage=\\\\\"http://adobe.com/flashplayer/\\\\\" src=\\\\\"/WRQualtricsShared/Flash/flvplayer.swf\\\\\" type=\\\\\"application/x-shockwave-flash\\\\\" width=\\\\\"320\\\\\" wmode=\\\\\"transparent\\\\\" /></audio></a></div>\",\n",
    "        \"DataExportTag\": \"%s\",\n",
    "        \"QuestionType\": \"MC\",\n",
    "        \"Selector\": \"SAHR\",\n",
    "        \"SubSelector\": \"TX\",\n",
    "        \"Configuration\": {\"QuestionDescriptionOption\": \"UseText\",\n",
    "        \"LabelPosition\": \"BELOW\"},\n",
    "        \"QuestionDescription\": \"Which emotion is it?\",\n",
    "        \"Choices\": {\"1\": {\"Display\": \"Angry\"},\n",
    "        \"2\": {\"Display\": \"Bored\"},\n",
    "        \"3\": {\"Display\": \"Disgust\"},\n",
    "        \"4\": {\"Display\": \"Happy\"},\n",
    "        \"5\": {\"Display\": \"Sad \"},\n",
    "        \"6\": {\"Display\": \"Surprised\"},\n",
    "        \"7\": {\"Display\": \"Neutral\"},\n",
    "        \"8\": {\"Display\": \"Other\", \"TextEntry\": \"true\"}},\n",
    "        \"ChoiceOrder\": [1, 2, 3, 4, 5, 6, 7, 8],\n",
    "        \"Validation\": {\"Settings\": {\"ForceResponse\": \"ON\",\n",
    "        \"ForceResponseType\": \"ON\",\n",
    "        \"Type\": \"None\"}},\n",
    "        \"Language\": [],\n",
    "        \"NextChoiceId\": 9,\n",
    "        \"NextAnswerId\": 1,\n",
    "        \"QuestionID\": \"%s\",\n",
    "        \"DataVisibility\": {\"Private\": false, \"Hidden\": false}}''' % (name_file, name_file, name_file, tag, ids )\n",
    "        conn.request(\"POST\", \"/API/v3/survey-definitions/%s/questions\" % survey_id, data_pl, headers)\n",
    "        res = conn.getresponse()\n",
    "    conn = http.client.HTTPSConnection(\"unibocconi.qualtrics.com\")\n",
    "    payload = '{\"BackButton\":\"true\",\"SaveAndContinue\":\"true\",\"SurveyProtection\":\"PublicSurvey\",\"BallotBoxStuffingPrevention\":\"false\",\"NoIndex\":\"Yes\",\"SecureResponseFiles\":\"true\",\"SurveyExpiration\":\"None\",\"SurveyTermination\":\"DefaultMessage\",\"Header\":\"\",\"Footer\":\"\",\"ProgressBarDisplay\":\"NoText\",\"PartialData\":\"+1 week\",\"ValidationMessage\":\"\",\"PreviousButton\":\"\",\"NextButton\":\" → Go\",\"SurveyTitle\":\"Audio Emotion %s\",\"SkinLibrary\":\"unibocconi\",\"SkinType\":\"MQ\",\"Skin\":\"skin1\",\"NewScoring\":1,\"QuestionsPerPage\":\"10\",\"SurveyLanguage\":\"EN\",\"SurveyStartDate\":null,\"SurveyExpirationDate\":null}' % fold\n",
    "    payload = payload.encode('utf-8')\n",
    "    conn.request(\"PUT\", \"/API/v3/survey-definitions/%s/options\" % survey_id, payload, headers)\n",
    "    res = conn.getresponse()\n",
    "    baseUrl = \"https://{0}.qualtrics.com/API/v3/surveys/{1}\".format(dataCenter, survey_id)\n",
    "    headers = {\n",
    "        \"content-type\": \"application/json\",\n",
    "        \"x-api-token\": apiToken,\n",
    "        }\n",
    "    data = {\n",
    "        \"isActive\": True, \n",
    "        \"expiration\": { \n",
    "            \"startDate\": \"2021-08-30T00:00:00Z\", \n",
    "            \"endDate\": \"2021-12-31T00:00:00Z\"\n",
    "        } \n",
    "      }\n",
    "    response = requests.put(baseUrl, json=data, headers=headers)\n",
    "    df_file.loc[df_file[\"folder\"]==fold,\"survey_link\"] = \"https://unibocconi.qualtrics.com/jfe/form/\" + survey_id"
   ]
  },
  {
   "cell_type": "code",
   "execution_count": null,
   "id": "61924632",
   "metadata": {},
   "outputs": [],
   "source": [
    "# Saving File connecting Survey ID and Audio Files\n",
    "df_file.to_excel(\"Audio_Files_Qual.xlsx\", index=False)"
   ]
  },
  {
   "cell_type": "markdown",
   "id": "b562220d",
   "metadata": {},
   "source": [
    "---\n",
    "# Survey Download\n",
    "Once the annotation process is done, the following code allows to download and store the answer in tabular format."
   ]
  },
  {
   "cell_type": "code",
   "execution_count": null,
   "id": "4237c437",
   "metadata": {},
   "outputs": [],
   "source": [
    "from utils import down_sent\n",
    "\n",
    "# Reading file with surveys\n",
    "df = pd.read_excel(\"Audio_Files_Qual.xlsx\")\n",
    "df[\"survey_id\"] =  df[\"SurveyLink\"].str.split(\"/\", expand = True)[5]"
   ]
  },
  {
   "cell_type": "code",
   "execution_count": null,
   "id": "08f0de0e",
   "metadata": {},
   "outputs": [],
   "source": [
    "# Downloading files with Surveys Answers and Storing in Results_Folder\n",
    "down_sent(surveys_all, df)"
   ]
  },
  {
   "cell_type": "code",
   "execution_count": null,
   "id": "bb9cc75a",
   "metadata": {},
   "outputs": [],
   "source": [
    "# Reading all dfs with Answers and storing them\n",
    "new_df = pd.DataFrame(columns=[\"folder\",\"Progress\",\"Start_Date\",\"End_Date\",\"Duration_S\",\"Question_Ind\"])\n",
    "for i in os.listdir(\"Results_Folder/\"):\n",
    "    df_ = pd.read_csv(\"Results_Folder/\"+i).T[[2]]\n",
    "    df_[\"folder\"] = int(i[-8:-4])\n",
    "    df_[\"Start_Date\"] = df_.loc[\"StartDate\", 2]\n",
    "    df_[\"End_Date\"] = df_.loc[\"EndDate\", 2]\n",
    "    df_[\"Progress\"] = df_.loc[\"Progress\", 2]\n",
    "    df_[\"Duration_S\"] = df_.loc[\"Duration (in seconds)\", 2]\n",
    "    df_[\"new_index\"] = df_.reset_index()[\"index\"].str.split(\"_\", 1, expand=True)[0].values    \n",
    "    df_.loc[df_[\"new_index\"].str.startswith(\"Q\"), \"new_c\"] = \"Q\"\n",
    "    df_ = df_[(df_[2].notna()) & (df_[\"new_c\"].notna())].copy()\n",
    "    df_ = df_.groupby(\"new_index\").last().reset_index().rename({2:\"Answer\"},axis=1)\n",
    "    df_[\"Question_Ind\"] = \"QID\"+ df_[\"new_index\"].str[1:]\n",
    "    df_ = df_[[\"folder\",\"Progress\",\"Start_Date\",\"End_Date\",\"Duration_S\",\"Question_Ind\", \"Answer\"]]\n",
    "    new_df = pd.concat([new_df,df_])"
   ]
  },
  {
   "cell_type": "code",
   "execution_count": null,
   "id": "e4f4fbe2",
   "metadata": {},
   "outputs": [],
   "source": [
    "# Encoding Numbers with Audio\n",
    "encoding_dict = {\"1\":\"Angry\",\n",
    "                 \"2\":\"Bored\",\n",
    "                 \"3\":\"Disgust\",\n",
    "                 \"4\":\"Happy\",\n",
    "                 \"5\":\"Sad\",\n",
    "                 \"6\":\"Surprised\",\n",
    "                 \"7\":\"Neutral\",\n",
    "                 \"8\":\"Other\"}\n",
    "new_df[\"Answer\"] = new_df[\"Answer\"].replace(encoding_dict)\n",
    "df_all = pd.read_excel(\"Audio_Files_Qual.xlsx\")\n",
    "df_all[\"Question_Ind\"] = \"QID\"+(df_all.groupby(\"folder\").cumcount()+1).astype(str)\n",
    "fold = df_all[\"folder\"].unique()\n",
    "# Shuffling the conversations\n",
    "np.random.shuffle(fold)\n",
    "df_all = df_all.set_index(\"folder\").loc[fold].reset_index()"
   ]
  },
  {
   "cell_type": "code",
   "execution_count": null,
   "id": "975b14fb",
   "metadata": {},
   "outputs": [],
   "source": [
    "# Adding transcripts to the file\n",
    "tr_audio = pd.read_csv(\"Audio_Transript.csv\")\n",
    "df_all = df_all.merge(tr_audio, left_on=\"file_name\" ,right_on=\"Audio_File\")\n",
    "df_all_answ = df_all.merge(new_df, on = [\"folder\",\"Question_Ind\"])\n",
    "df_all_answ.to_csv(\"Annotated_Files.csv\",index=False)"
   ]
  },
  {
   "cell_type": "markdown",
   "id": "1b48fb46",
   "metadata": {},
   "source": [
    "---"
   ]
  }
 ],
 "metadata": {
  "kernelspec": {
   "display_name": "Python 3",
   "language": "python",
   "name": "python3"
  },
  "language_info": {
   "codemirror_mode": {
    "name": "ipython",
    "version": 3
   },
   "file_extension": ".py",
   "mimetype": "text/x-python",
   "name": "python",
   "nbconvert_exporter": "python",
   "pygments_lexer": "ipython3",
   "version": "3.8.8"
  }
 },
 "nbformat": 4,
 "nbformat_minor": 5
}
